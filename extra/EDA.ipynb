{
 "cells": [
  {
   "cell_type": "code",
   "execution_count": 2,
   "metadata": {},
   "outputs": [],
   "source": [
    "import mysql.connector as dbconnect\n",
    "from mysql.connector import Error\n",
    "import my_secrets\n",
    "from TBL_NAME import TBL_NAME\n",
    "import calendar"
   ]
  },
  {
   "cell_type": "code",
   "execution_count": 4,
   "metadata": {},
   "outputs": [],
   "source": [
    "# customer: \n",
    "def build_query(table_name: TBL_NAME):\n",
    "    if table_name == TBL_NAME.CREDIT:\n",
    "        valid_input = False\n",
    "        \n",
    "        while not valid_input:\n",
    "            input_zip = input(\"Enter a five digit zip code: \")\n",
    "            if len(input_zip) == 5:\n",
    "                if input_zip.isnumeric():\n",
    "                    valid_input = True\n",
    "            print(\"Zip code must be a five digit number!\")\n",
    "\n",
    "        valid_input = False\n",
    "        while not valid_input:\n",
    "            input_month = input(\"Enter month as a number(1-12):\")\n",
    "            if input_month.isnumeric():\n",
    "                month = int(input_month)\n",
    "                if month >= 1 and month <= 12:\n",
    "                    if month >= 1 and month <= 9:\n",
    "                        input_month = \"0\" + input_month\n",
    "                    valid_input = True\n",
    "                else: print(\"Invalid input, must be between 1 and 12!\")\n",
    "            else:\n",
    "                print(\"Invalid input, must be a number!\")\n",
    "        \n",
    "        valid_input = False\n",
    "        while not valid_input:\n",
    "            input_year = input(\"Enter year:\")\n",
    "            if input_year.isnumeric():\n",
    "                year = int(input_year)\n",
    "                if year >= 1970 and year <= 2024:\n",
    "                    valid_input = True\n",
    "                else: print(\"Invalid input, must be between 1 and 12!\")\n",
    "            else:\n",
    "                print(\"Invalid input, must be a number!\")\n",
    "        \n",
    "    # query = where customer.zip = input_zip AND CONCAT(year, month) LIKE credit.TIMEID[0:6]\n",
    "    return input_zip, input_month, input_year\n",
    "            \n",
    "\n",
    "            \n",
    "            \n",
    "\n",
    "\n"
   ]
  },
  {
   "cell_type": "code",
   "execution_count": 90,
   "metadata": {},
   "outputs": [
    {
     "name": "stdout",
     "output_type": "stream",
     "text": [
      "Zip code must be a five digit number!\n",
      "Invalid input, must be between 1 and 12!\n"
     ]
    },
    {
     "data": {
      "text/plain": [
       "('02145', 12, 1970)"
      ]
     },
     "execution_count": 90,
     "metadata": {},
     "output_type": "execute_result"
    }
   ],
   "source": []
  },
  {
   "cell_type": "code",
   "execution_count": 5,
   "metadata": {},
   "outputs": [],
   "source": [
    "\n",
    "def all_details(table_name: TBL_NAME):\n",
    "    inputs = build_query(table_name)\n",
    "    if table_name == TBL_NAME.CUST:\n",
    "        query = \"SELECT * FROM CDW_SAPP_CUSTOMER\"\n",
    "        \n",
    "    elif table_name == TBL_NAME.CREDIT:\n",
    "        query = \"SELECT *, SUBSTRING(CREDIT.TIMEID, 7) AS DAY FROM CDW_SAPP_CREDIT AS CREDIT\\\n",
    "            JOIN CDW_SAPP_BRANCH AS BRANCH ON CREDIT.BRANCH_CODE = BRANCH.BRANCH_CODE\\\n",
    "            WHERE SUBSTRING(CREDIT.TIMEID, 1, 6) = \" + inputs[2] + inputs[1] + \" AND \\\n",
    "            BRANCH.BRANCH_ZIP = \" + inputs[0] + \" ORDER BY DAY DESC\"\n",
    "\n",
    "    conn = None\n",
    "    try: \n",
    "        conn = dbconnect.connect(host='localhost', user=my_secrets.username, database='creditcard_capstone', password=my_secrets.password)\n",
    "\n",
    "        if conn.is_connected():\n",
    "            print('Connected to MySQL database')\n",
    "            cursor = conn.cursor()\n",
    "            cursor.execute(query)\n",
    "            df = cursor.fetchall()\n",
    "\n",
    "            conn.close()\n",
    "                    \n",
    "    except Error as e:\n",
    "        print(\"Conection failed!\", e)\n",
    "    \n",
    "    return df\n",
    "        \n",
    "    \n"
   ]
  },
  {
   "cell_type": "code",
   "execution_count": 6,
   "metadata": {},
   "outputs": [],
   "source": [
    "'''\n",
    "2 = first name\n",
    "\n",
    "'''\n",
    "def display_output(results: list[str], TABLE: TBL_NAME):\n",
    "    if TABLE == TBL_NAME.CUST:\n",
    "        for row in results:\n",
    "            full_name = \" \".join([row[1], row[2], row[3]])\n",
    "            ssn_redacted = \"***-**-\" + str(row[0])[5:]\n",
    "            cc_redacted = \"**** **** **** \" + str(row[4])[12:]\n",
    "            street = row[5]\n",
    "            city = row[6]\n",
    "            state = row[7]\n",
    "            country = row[8]\n",
    "            zip = row[9]\n",
    "            phone = row[10]\n",
    "            email = row[11]\n",
    "\n",
    "    elif TABLE == TBL_NAME.CREDIT:\n",
    "        for row in results:\n",
    "            cc_redacted = \"**** **** **** \" + str(row[0])[12:]\n",
    "            ssn_redacted = \"***-**-\" + str(row[1])[5:]\n",
    "            time = str(row[2])[0:4] + \"/\" + str(row[2])[4:6] + \"/\" + str(row[2])[6:]\n",
    "            branch_code = row[3]\n",
    "            t_type = row[4]\n",
    "            t_value = row[5]\n",
    "            t_id = row[6]\n",
    "\n",
    "      \n"
   ]
  },
  {
   "cell_type": "code",
   "execution_count": 7,
   "metadata": {},
   "outputs": [
    {
     "name": "stdout",
     "output_type": "stream",
     "text": [
      "Zip code must be a five digit number!\n",
      "Invalid input, must be a number!\n",
      "Connected to MySQL database\n"
     ]
    }
   ],
   "source": [
    "results = all_details(TBL_NAME.CREDIT)\n",
    "display_output(results, TBL_NAME.CREDIT)\n",
    "#rint(results, TBL_NAME.CREDIT)"
   ]
  },
  {
   "cell_type": "code",
   "execution_count": null,
   "metadata": {},
   "outputs": [],
   "source": [
    "results = all_details(TBL_NAME.CUST)\n",
    "\n",
    "display_output(results, TBL_NAME.CUST)"
   ]
  },
  {
   "cell_type": "markdown",
   "metadata": {},
   "source": []
  }
 ],
 "metadata": {
  "kernelspec": {
   "display_name": "Python 3",
   "language": "python",
   "name": "python3"
  },
  "language_info": {
   "codemirror_mode": {
    "name": "ipython",
    "version": 3
   },
   "file_extension": ".py",
   "mimetype": "text/x-python",
   "name": "python",
   "nbconvert_exporter": "python",
   "pygments_lexer": "ipython3",
   "version": "3.12.0"
  }
 },
 "nbformat": 4,
 "nbformat_minor": 2
}
